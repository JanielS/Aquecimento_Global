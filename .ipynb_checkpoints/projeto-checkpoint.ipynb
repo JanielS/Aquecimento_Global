{
 "cells": [
  {
   "cell_type": "code",
   "execution_count": 1,
   "id": "7a2b7eef-4891-4f10-a852-450496ac055e",
   "metadata": {
    "canvas": {
     "comments": [],
     "componentType": "CodeCell",
     "copiedOriginId": null,
     "diskcache": true,
     "headerColor": "transparent",
     "id": "77017463-2f4f-4357-8022-d2dd34783044",
     "isComponent": true,
     "name": "Import modules",
     "parents": []
    },
    "tags": []
   },
   "outputs": [],
   "source": [
    "# Manipule data\n",
    "import pandas as pd\n",
    "\n",
    "\n",
    "# Visualize data\n",
    "import seaborn as sns \n",
    "import plotly.express as px\n",
    "import matplotlib.pyplot as plt\n",
    "%matplotlib inline"
   ]
  },
  {
   "cell_type": "markdown",
   "id": "a8215306-0593-4133-9240-8e77b18b1d85",
   "metadata": {
    "canvas": {
     "comments": [],
     "componentType": "CodeCell",
     "copiedOriginId": null,
     "diskcache": false,
     "headerColor": "transparent",
     "id": "199609a4-e5b0-46b5-b838-93ebc7dc0fe8",
     "isComponent": false,
     "name": "",
     "parents": []
    }
   },
   "source": [
    "# 1.2 Load DataSets"
   ]
  },
  {
   "cell_type": "markdown",
   "id": "b47a392a-1442-4148-9467-b095abc2420f",
   "metadata": {
    "canvas": {
     "comments": [],
     "componentType": "CodeCell",
     "copiedOriginId": null,
     "diskcache": false,
     "headerColor": "transparent",
     "id": "4ae7160e-2c8c-4911-8f2b-4437fd3315f6",
     "isComponent": false,
     "name": "",
     "parents": []
    }
   },
   "source": [
    "## 1.2.1 SEEG Brasil"
   ]
  },
  {
   "cell_type": "markdown",
   "id": "86a20566-ba34-454d-8c25-3c4a949c9a10",
   "metadata": {
    "canvas": {
     "comments": [],
     "componentType": "CodeCell",
     "copiedOriginId": null,
     "diskcache": false,
     "headerColor": "transparent",
     "id": "96479648-9734-445a-8170-17781c9f6cdb",
     "isComponent": false,
     "name": "",
     "parents": []
    }
   },
   "source": [
    "### Tabela Geral de Dados Nacionais e Estaduais "
   ]
  },
  {
   "cell_type": "code",
   "execution_count": 2,
   "id": "0d9070df-27b6-45d1-880c-b95a9b672716",
   "metadata": {
    "canvas": {
     "comments": [],
     "componentType": "CodeCell",
     "copiedOriginId": null,
     "diskcache": false,
     "headerColor": "transparent",
     "id": "82621d41-c8f3-474e-8c9a-b0631bece4d5",
     "isComponent": true,
     "name": "Load brasil_df",
     "parents": [
      {
       "id": "77017463-2f4f-4357-8022-d2dd34783044",
       "name": "Import modules"
      }
     ]
    },
    "tags": []
   },
   "outputs": [],
   "source": [
    "url = 'https://seeg.eco.br/wp-content/uploads/2024/02/SEEG11.1-DADOS-NACIONAIS.xlsx'\n",
    "\n",
    "brasil_df = pd.read_excel(url, sheet_name=1)"
   ]
  },
  {
   "cell_type": "code",
   "execution_count": null,
   "id": "3af52d53-349f-479c-b370-cda4e5390929",
   "metadata": {
    "canvas": {
     "comments": [],
     "componentType": "CodeCell",
     "copiedOriginId": null,
     "diskcache": false,
     "headerColor": "transparent",
     "id": "9d92f8a4-d1a7-4085-b61c-7cc44eaedf21",
     "isComponent": false,
     "name": "",
     "parents": []
    }
   },
   "outputs": [],
   "source": []
  }
 ],
 "metadata": {
  "canvas": {
   "colorPalette": [
    "inherit",
    "inherit",
    "inherit",
    "inherit",
    "inherit",
    "inherit",
    "inherit",
    "inherit",
    "inherit",
    "inherit"
   ],
   "parameters": [],
   "version": "1.0"
  },
  "kernelspec": {
   "display_name": "Python 3 (ipykernel)",
   "language": "python",
   "name": "python3"
  },
  "language_info": {
   "codemirror_mode": {
    "name": "ipython",
    "version": 3
   },
   "file_extension": ".py",
   "mimetype": "text/x-python",
   "name": "python",
   "nbconvert_exporter": "python",
   "pygments_lexer": "ipython3",
   "version": "3.10.14"
  }
 },
 "nbformat": 4,
 "nbformat_minor": 5
}
